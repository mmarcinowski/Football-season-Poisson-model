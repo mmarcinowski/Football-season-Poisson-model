{
 "cells": [
  {
   "cell_type": "code",
   "execution_count": 1,
   "metadata": {},
   "outputs": [
    {
     "data": {
      "text/html": [
       "<script>\n",
       "code_show=true; \n",
       "function code_toggle() {\n",
       " if (code_show){\n",
       " $('div.input').hide();\n",
       " } else {\n",
       " $('div.input').show();\n",
       " }\n",
       " code_show = !code_show\n",
       "} \n",
       "$( document ).ready(code_toggle);\n",
       "</script>\n",
       "<a href=\"javascript:code_toggle()\">Wyświetl kod</a>"
      ],
      "text/plain": [
       "<IPython.core.display.HTML object>"
      ]
     },
     "execution_count": 1,
     "metadata": {},
     "output_type": "execute_result"
    }
   ],
   "source": [
    "from IPython.display import HTML\n",
    "HTML('''<script>\n",
    "code_show=true; \n",
    "function code_toggle() {\n",
    " if (code_show){\n",
    " $('div.input').hide();\n",
    " } else {\n",
    " $('div.input').show();\n",
    " }\n",
    " code_show = !code_show\n",
    "} \n",
    "$( document ).ready(code_toggle);\n",
    "</script>\n",
    "<a href=\"javascript:code_toggle()\">Wyświetl kod</a>''')"
   ]
  },
  {
   "cell_type": "code",
   "execution_count": 2,
   "metadata": {},
   "outputs": [],
   "source": [
    "import ipywidgets as widgets\n",
    "from ipywidgets import Layout\n",
    "\n",
    "style = {'description_width': 'initial'}"
   ]
  },
  {
   "cell_type": "code",
   "execution_count": 3,
   "metadata": {
    "scrolled": false
   },
   "outputs": [
    {
     "data": {
      "application/vnd.jupyter.widget-view+json": {
       "model_id": "b881e89dd8734504b824e624d311c245",
       "version_major": 2,
       "version_minor": 0
      },
      "text/plain": [
       "FloatLogSlider(value=10000.0, description='Liczba symulacji', max=10.0, min=1.0, step=1.0, style=SliderStyle(d…"
      ]
     },
     "metadata": {},
     "output_type": "display_data"
    },
    {
     "data": {
      "application/vnd.jupyter.widget-view+json": {
       "model_id": "8694c38c47a6497285df2cf39a314e6c",
       "version_major": 2,
       "version_minor": 0
      },
      "text/plain": [
       "BoundedIntText(value=1, description='Wybierz kolejkę:', max=34, min=1, style=DescriptionStyle(description_widt…"
      ]
     },
     "metadata": {},
     "output_type": "display_data"
    },
    {
     "data": {
      "application/vnd.jupyter.widget-view+json": {
       "model_id": "2d83009516154b36ad88e768bb9d9f42",
       "version_major": 2,
       "version_minor": 0
      },
      "text/plain": [
       "Button(description='Zatwierdź', icon='check', style=ButtonStyle(), tooltip='Confirm')"
      ]
     },
     "metadata": {},
     "output_type": "display_data"
    },
    {
     "data": {
      "application/vnd.jupyter.widget-view+json": {
       "model_id": "87093b461dac471c917f89d081fc978a",
       "version_major": 2,
       "version_minor": 0
      },
      "text/plain": [
       "Output()"
      ]
     },
     "metadata": {},
     "output_type": "display_data"
    }
   ],
   "source": [
    "n = widgets.FloatLogSlider(value=10000, base=10, min=1, max=10, step=1, description='Liczba symulacji', style=style)\n",
    "kolejka = widgets.BoundedIntText(value=1, min=1, max=34, step=1, description='Wybierz kolejkę:', disabled=False, style=style)\n",
    "\n",
    "display(n)\n",
    "display(kolejka)\n",
    "\n",
    "button = widgets.Button(description='Zatwierdź',disabled=False,tooltip='Confirm',icon='check') \n",
    "output = widgets.Output()\n",
    "display(button,output)"
   ]
  },
  {
   "cell_type": "code",
   "execution_count": 4,
   "metadata": {},
   "outputs": [],
   "source": [
    "strzelone_dom = {\n",
    "    1: 12,    2: 13,    3: 17,    4: 14,    5: 13,    6: 7,    7: 13,    8: 8,    9: 11,    10: 10,\n",
    "    11: 13,    12: 11,    13: 10,    14: 13,    15: 15,    16: 18,    17: 4,    18: 13,    19: 18,    20: 7,\n",
    "    21: 5,    22: 11,    23: 16,    24: 8,    25: 9,    26: 6,    27: 16,    28: 13,    29: 10,    30: 16,    \n",
    "    31: 12,     32: 12,    33: 9,     34 :13\n",
    "}"
   ]
  },
  {
   "cell_type": "code",
   "execution_count": 5,
   "metadata": {},
   "outputs": [],
   "source": [
    "strzelone_wyjazd = {\n",
    "    1: 14,    2: 10,    3: 1,    4: 7,    5: 6,    6: 17,    7: 7,    8: 9,    9: 5,    10: 7,\n",
    "    11: 14,    12: 9,    13: 14,    14: 8,    15: 9,    16: 6,    17: 17,    18: 10,    19: 11,    20: 9,\n",
    "    21: 11,    22: 6,    23: 11,    24: 7,    25: 6,    26: 7,    27: 10,    28: 7,    29: 11,    30: 8,    \n",
    "    31: 8,     32: 13,    33: 15,     34 :7\n",
    "}"
   ]
  },
  {
   "cell_type": "code",
   "execution_count": 6,
   "metadata": {},
   "outputs": [],
   "source": [
    "mecze_liga = 34*9"
   ]
  },
  {
   "cell_type": "code",
   "execution_count": 7,
   "metadata": {},
   "outputs": [],
   "source": [
    "import pandas as pd\n",
    "import os\n",
    "\n",
    "def calculate_weighted_stats(w):\n",
    "    base = r'Kolejki1Liga'\n",
    "    matchdays = []\n",
    "    for filename in os.listdir(base):\n",
    "        if int(filename)<w:\n",
    "            matchday = pd.read_csv(f\"{base}/{filename}\", header=None)\n",
    "            matchdays.append(matchday)\n",
    "    league = pd.concat(matchdays, ignore_index=True)\n",
    "    g = open(\"Statystyki/poissonstats-1liga\", \"r\", encoding='utf-8')\n",
    "    clubs = [x.strip().split(\",\")[0] for x in g]\n",
    "    \n",
    "    global home_attack_strength\n",
    "    global home_defence_strength\n",
    "    global away_attack_strength\n",
    "    global away_defence_strength\n",
    "    home_attack_strength = {}\n",
    "    home_defence_strength = {}\n",
    "    away_attack_strength = {}\n",
    "    away_defence_strength = {}\n",
    "    \n",
    "    global avg_strzelone_dom_liga\n",
    "    global avg_strzelone_wyjazd_liga\n",
    "    avg_strzelone_dom_liga = sum([k*v/(8*sum(range(1,w))) for k,v in strzelone_dom.items() if k<w])\n",
    "    avg_strzelone_wyjazd_liga = sum([k*v/(8*sum(range(1,w))) for k,v in strzelone_wyjazd.items() if k<w])\n",
    "    \n",
    "    for c in clubs:\n",
    "        weight = 1\n",
    "        weights_away = []\n",
    "        weights_home = []\n",
    "        has = 0\n",
    "        hds = 0\n",
    "        aas = 0\n",
    "        ads = 0\n",
    "        for index, row in league.iterrows():\n",
    "            home = row[0].split('-')[0]\n",
    "            away = row[0].split('-')[1]\n",
    "            if c==home:\n",
    "                has += int(row[1].split(':')[0])*weight\n",
    "                hds += int(row[1].split(':')[1])*weight\n",
    "                weights_home.append(weight)\n",
    "                weight = weight+1\n",
    "            if c==away:\n",
    "                aas += int(row[1].split(':')[1])*weight\n",
    "                ads += int(row[1].split(':')[0])*weight\n",
    "                weights_away.append(weight)\n",
    "                weight = weight+1\n",
    "        home_attack_strength[c] = has / (sum(weights_home)*avg_strzelone_dom_liga)\n",
    "        home_defence_strength[c] = hds / (sum(weights_home)*avg_strzelone_wyjazd_liga)\n",
    "        away_attack_strength[c] = aas / (sum(weights_away)*avg_strzelone_wyjazd_liga)\n",
    "        away_defence_strength[c] = ads / (sum(weights_away)*avg_strzelone_dom_liga)"
   ]
  },
  {
   "cell_type": "code",
   "execution_count": 8,
   "metadata": {},
   "outputs": [],
   "source": [
    "import numpy as np\n",
    "from collections import Counter\n",
    "from IPython.display import clear_output\n",
    "\n",
    "def display_matchday(a):\n",
    "    clear_output()\n",
    "    h = open(f\"Kolejki1Liga/{str(a)}\", \"r\", encoding='utf-8')\n",
    "    \n",
    "    for x in h:\n",
    "        home_team = x.strip().split(\",\")[0].split(\"-\")[0]\n",
    "        away_team = x.strip().split(\",\")[0].split(\"-\")[1]\n",
    "        rng = np.random.default_rng()\n",
    "        results = []\n",
    "        home = home_attack_strength[home_team]*away_defence_strength[away_team]*avg_strzelone_dom_liga\n",
    "        away = home_defence_strength[home_team]*away_attack_strength[away_team]*avg_strzelone_wyjazd_liga\n",
    "        print(home_team, \"vs\", away_team)\n",
    "        print(\"Siła:\", home, away)\n",
    "        for i in range(0,int(n.value)):\n",
    "            results.append((rng.poisson(home, 1)[0],rng.poisson(away, 1)[0]))\n",
    "        print(\"Prawdopodobieństwo czystego konta gospodarza:\", sum(x[1]==0 for x in results)/n.value)\n",
    "        print(\"Prawdopodobieństwo czystego konta gościa:\", sum(x[0]==0 for x in results)/n.value)\n",
    "        \n",
    "        print(\"Najbardziej prawdopodobne wyniki:\\n\",Counter(results).most_common(7),\"\\n\\n\\n\")\n",
    "    h.close()"
   ]
  },
  {
   "cell_type": "code",
   "execution_count": 9,
   "metadata": {},
   "outputs": [],
   "source": [
    "def on_confirm_button_clicked(b):\n",
    "    calculate_weighted_stats(kolejka.value)\n",
    "    with output:\n",
    "        display_matchday(kolejka.value)\n",
    "    \n",
    "button.on_click(on_confirm_button_clicked)"
   ]
  },
  {
   "cell_type": "code",
   "execution_count": 10,
   "metadata": {},
   "outputs": [],
   "source": [
    "#home = home_attack_strength[\"Płock\"]*away_defence_strength[\"Wisła\"]*avg_strzelone_dom_liga\n",
    "#away = home_defence_strength[\"Płock\"]*away_attack_strength[\"Wisła\"]*avg_strzelone_wyjazd_liga\n",
    "#results = []\n",
    "#rng = np.random.default_rng()\n",
    "#for i in range(0,int(n.value)):\n",
    "#    results.append((rng.poisson(home, 1)[0],rng.poisson(away, 1)[0]))\n",
    "#Counter(results).most_common(35)"
   ]
  }
 ],
 "metadata": {
  "kernelspec": {
   "display_name": "Python 3",
   "language": "python",
   "name": "python3"
  },
  "language_info": {
   "codemirror_mode": {
    "name": "ipython",
    "version": 3
   },
   "file_extension": ".py",
   "mimetype": "text/x-python",
   "name": "python",
   "nbconvert_exporter": "python",
   "pygments_lexer": "ipython3",
   "version": "3.7.5"
  }
 },
 "nbformat": 4,
 "nbformat_minor": 4
}
