{
 "cells": [
  {
   "cell_type": "code",
   "execution_count": 11,
   "metadata": {},
   "outputs": [
    {
     "data": {
      "text/html": [
       "<script>\n",
       "code_show=true; \n",
       "function code_toggle() {\n",
       " if (code_show){\n",
       " $('div.input').hide();\n",
       " } else {\n",
       " $('div.input').show();\n",
       " }\n",
       " code_show = !code_show\n",
       "} \n",
       "$( document ).ready(code_toggle);\n",
       "</script>\n",
       "<a href=\"javascript:code_toggle()\">Wyświetl kod</a>"
      ],
      "text/plain": [
       "<IPython.core.display.HTML object>"
      ]
     },
     "execution_count": 11,
     "metadata": {},
     "output_type": "execute_result"
    }
   ],
   "source": [
    "from IPython.display import HTML\n",
    "HTML('''<script>\n",
    "code_show=true; \n",
    "function code_toggle() {\n",
    " if (code_show){\n",
    " $('div.input').hide();\n",
    " } else {\n",
    " $('div.input').show();\n",
    " }\n",
    " code_show = !code_show\n",
    "} \n",
    "$( document ).ready(code_toggle);\n",
    "</script>\n",
    "<a href=\"javascript:code_toggle()\">Wyświetl kod</a>''')"
   ]
  },
  {
   "cell_type": "code",
   "execution_count": 12,
   "metadata": {},
   "outputs": [],
   "source": [
    "import ipywidgets as widgets\n",
    "from ipywidgets import Layout\n",
    "\n",
    "style = {'description_width': 'initial'}"
   ]
  },
  {
   "cell_type": "code",
   "execution_count": 13,
   "metadata": {
    "scrolled": false
   },
   "outputs": [
    {
     "data": {
      "application/vnd.jupyter.widget-view+json": {
       "model_id": "433ad04d95e8482c910fef32bf3c08ba",
       "version_major": 2,
       "version_minor": 0
      },
      "text/plain": [
       "FloatLogSlider(value=10000.0, description='Liczba symulacji', max=10.0, min=1.0, step=1.0, style=SliderStyle(d…"
      ]
     },
     "metadata": {},
     "output_type": "display_data"
    },
    {
     "data": {
      "application/vnd.jupyter.widget-view+json": {
       "model_id": "eb6c10f16b794ff39c37445bc657a85f",
       "version_major": 2,
       "version_minor": 0
      },
      "text/plain": [
       "BoundedIntText(value=1, description='Wybierz kolejkę:', max=34, min=1, style=DescriptionStyle(description_widt…"
      ]
     },
     "metadata": {},
     "output_type": "display_data"
    },
    {
     "data": {
      "application/vnd.jupyter.widget-view+json": {
       "model_id": "d24f5b5169364c72ba2f64ba63f9e27f",
       "version_major": 2,
       "version_minor": 0
      },
      "text/plain": [
       "Button(description='Zatwierdź', icon='check', style=ButtonStyle(), tooltip='Confirm')"
      ]
     },
     "metadata": {},
     "output_type": "display_data"
    },
    {
     "data": {
      "application/vnd.jupyter.widget-view+json": {
       "model_id": "c3365f71804941d59bc28443b2120e14",
       "version_major": 2,
       "version_minor": 0
      },
      "text/plain": [
       "Output()"
      ]
     },
     "metadata": {},
     "output_type": "display_data"
    },
    {
     "ename": "AttributeError",
     "evalue": "'float' object has no attribute 'split'",
     "output_type": "error",
     "traceback": [
      "\u001b[1;31m---------------------------------------------------------------------------\u001b[0m",
      "\u001b[1;31mAttributeError\u001b[0m                            Traceback (most recent call last)",
      "\u001b[1;32m~\\AppData\\Local\\Temp/ipykernel_15256/2784812110.py\u001b[0m in \u001b[0;36mon_confirm_button_clicked\u001b[1;34m(b)\u001b[0m\n\u001b[0;32m      1\u001b[0m \u001b[1;32mdef\u001b[0m \u001b[0mon_confirm_button_clicked\u001b[0m\u001b[1;33m(\u001b[0m\u001b[0mb\u001b[0m\u001b[1;33m)\u001b[0m\u001b[1;33m:\u001b[0m\u001b[1;33m\u001b[0m\u001b[1;33m\u001b[0m\u001b[0m\n\u001b[1;32m----> 2\u001b[1;33m     \u001b[0mcalculate_weighted_stats\u001b[0m\u001b[1;33m(\u001b[0m\u001b[0mkolejka\u001b[0m\u001b[1;33m.\u001b[0m\u001b[0mvalue\u001b[0m\u001b[1;33m)\u001b[0m\u001b[1;33m\u001b[0m\u001b[1;33m\u001b[0m\u001b[0m\n\u001b[0m\u001b[0;32m      3\u001b[0m     \u001b[1;32mwith\u001b[0m \u001b[0moutput\u001b[0m\u001b[1;33m:\u001b[0m\u001b[1;33m\u001b[0m\u001b[1;33m\u001b[0m\u001b[0m\n\u001b[0;32m      4\u001b[0m         \u001b[0mdisplay_matchday\u001b[0m\u001b[1;33m(\u001b[0m\u001b[0mkolejka\u001b[0m\u001b[1;33m.\u001b[0m\u001b[0mvalue\u001b[0m\u001b[1;33m)\u001b[0m\u001b[1;33m\u001b[0m\u001b[1;33m\u001b[0m\u001b[0m\n\u001b[0;32m      5\u001b[0m \u001b[1;33m\u001b[0m\u001b[0m\n",
      "\u001b[1;32m~\\AppData\\Local\\Temp/ipykernel_15256/3703843198.py\u001b[0m in \u001b[0;36mcalculate_weighted_stats\u001b[1;34m(w)\u001b[0m\n\u001b[0;32m     45\u001b[0m                     \u001b[0mweight\u001b[0m \u001b[1;33m=\u001b[0m \u001b[0mweight\u001b[0m\u001b[1;33m+\u001b[0m\u001b[1;36m1\u001b[0m\u001b[1;33m\u001b[0m\u001b[1;33m\u001b[0m\u001b[0m\n\u001b[0;32m     46\u001b[0m                 \u001b[1;32mif\u001b[0m \u001b[0mc\u001b[0m\u001b[1;33m==\u001b[0m\u001b[0maway\u001b[0m\u001b[1;33m:\u001b[0m\u001b[1;33m\u001b[0m\u001b[1;33m\u001b[0m\u001b[0m\n\u001b[1;32m---> 47\u001b[1;33m                     \u001b[0maas\u001b[0m \u001b[1;33m+=\u001b[0m \u001b[0mint\u001b[0m\u001b[1;33m(\u001b[0m\u001b[0mrow\u001b[0m\u001b[1;33m[\u001b[0m\u001b[1;36m1\u001b[0m\u001b[1;33m]\u001b[0m\u001b[1;33m.\u001b[0m\u001b[0msplit\u001b[0m\u001b[1;33m(\u001b[0m\u001b[1;34m':'\u001b[0m\u001b[1;33m)\u001b[0m\u001b[1;33m[\u001b[0m\u001b[1;36m1\u001b[0m\u001b[1;33m]\u001b[0m\u001b[1;33m)\u001b[0m\u001b[1;33m*\u001b[0m\u001b[0mweight\u001b[0m\u001b[1;33m\u001b[0m\u001b[1;33m\u001b[0m\u001b[0m\n\u001b[0m\u001b[0;32m     48\u001b[0m                     \u001b[0mads\u001b[0m \u001b[1;33m+=\u001b[0m \u001b[0mint\u001b[0m\u001b[1;33m(\u001b[0m\u001b[0mrow\u001b[0m\u001b[1;33m[\u001b[0m\u001b[1;36m1\u001b[0m\u001b[1;33m]\u001b[0m\u001b[1;33m.\u001b[0m\u001b[0msplit\u001b[0m\u001b[1;33m(\u001b[0m\u001b[1;34m':'\u001b[0m\u001b[1;33m)\u001b[0m\u001b[1;33m[\u001b[0m\u001b[1;36m0\u001b[0m\u001b[1;33m]\u001b[0m\u001b[1;33m)\u001b[0m\u001b[1;33m*\u001b[0m\u001b[0mweight\u001b[0m\u001b[1;33m\u001b[0m\u001b[1;33m\u001b[0m\u001b[0m\n\u001b[0;32m     49\u001b[0m                     \u001b[0mweights_away\u001b[0m\u001b[1;33m.\u001b[0m\u001b[0mappend\u001b[0m\u001b[1;33m(\u001b[0m\u001b[0mweight\u001b[0m\u001b[1;33m)\u001b[0m\u001b[1;33m\u001b[0m\u001b[1;33m\u001b[0m\u001b[0m\n",
      "\u001b[1;31mAttributeError\u001b[0m: 'float' object has no attribute 'split'"
     ]
    }
   ],
   "source": [
    "n = widgets.FloatLogSlider(value=10000, base=10, min=1, max=10, step=1, description='Liczba symulacji', style=style)\n",
    "kolejka = widgets.BoundedIntText(value=1, min=1, max=34, step=1, description='Wybierz kolejkę:', disabled=False, style=style)\n",
    "\n",
    "display(n)\n",
    "display(kolejka)\n",
    "\n",
    "button = widgets.Button(description='Zatwierdź',disabled=False,tooltip='Confirm',icon='check') \n",
    "output = widgets.Output()\n",
    "display(button,output)"
   ]
  },
  {
   "cell_type": "code",
   "execution_count": 14,
   "metadata": {},
   "outputs": [],
   "source": [
    "strzelone_dom = {\n",
    "    1: 12,    2: 10,    3: 9,    4: 8,    5: 13,    6: 17,    7: 6,    8: 11,    9: 10,    10: 17,\n",
    "    11: 11,    12: 10,    13: 15,    14: 12,    15: 10,    16: 15,    17: 17,    18: 16,    19: 13,    20: 17,\n",
    "    21: 9,    22: 10,    23: 9,    24: 8,    25: 0,    26: 0,    27: 0,    28: 0,    29: 0,    30: 0,    \n",
    "    31: 0,     32: 0,    33: 0,     34 : 0\n",
    "}"
   ]
  },
  {
   "cell_type": "code",
   "execution_count": 15,
   "metadata": {},
   "outputs": [],
   "source": [
    "strzelone_wyjazd = {\n",
    "    1: 13,    2: 12,    3: 16,    4: 6,    5: 6,    6: 10,    7: 12,    8: 16,    9: 11,    10: 4,\n",
    "    11: 14,    12: 12,    13: 5,    14: 10,    15: 7,    16: 5,    17: 11,    18: 8,    19: 13,    20: 7,\n",
    "    21: 11,    22: 8,    23: 11,    24: 12,    25: 0,    26: 0,    27: 0,    28: 0,    29: 0,    30: 0,    \n",
    "    31: 0,     32: 0,    33: 0,     34 : 0\n",
    "}"
   ]
  },
  {
   "cell_type": "code",
   "execution_count": 16,
   "metadata": {},
   "outputs": [],
   "source": [
    "mecze_liga = 24*9"
   ]
  },
  {
   "cell_type": "code",
   "execution_count": 17,
   "metadata": {},
   "outputs": [],
   "source": [
    "import pandas as pd\n",
    "import os\n",
    "\n",
    "def calculate_weighted_stats(w):\n",
    "    base = r'Kolejki1Liga'\n",
    "    matchdays = []\n",
    "    for filename in os.listdir(base):\n",
    "        if int(filename)<w:\n",
    "            matchday = pd.read_csv(f\"{base}/{filename}\", header=None)\n",
    "            matchdays.append(matchday)\n",
    "    league = pd.concat(matchdays, ignore_index=True)\n",
    "    g = open(\"Statystyki/poissonstats-1liga\", \"r\", encoding='utf-8')\n",
    "    clubs = [x.strip().split(\",\")[0] for x in g]\n",
    "    \n",
    "    global home_attack_strength\n",
    "    global home_defence_strength\n",
    "    global away_attack_strength\n",
    "    global away_defence_strength\n",
    "    home_attack_strength = {}\n",
    "    home_defence_strength = {}\n",
    "    away_attack_strength = {}\n",
    "    away_defence_strength = {}\n",
    "    \n",
    "    global avg_strzelone_dom_liga\n",
    "    global avg_strzelone_wyjazd_liga\n",
    "    avg_strzelone_dom_liga = sum([k*v/(8*sum(range(1,w))) for k,v in strzelone_dom.items() if k<w])\n",
    "    avg_strzelone_wyjazd_liga = sum([k*v/(8*sum(range(1,w))) for k,v in strzelone_wyjazd.items() if k<w])\n",
    "    \n",
    "    for c in clubs:\n",
    "        weight = 1\n",
    "        weights_away = []\n",
    "        weights_home = []\n",
    "        has = 0\n",
    "        hds = 0\n",
    "        aas = 0\n",
    "        ads = 0\n",
    "        for index, row in league.iterrows():\n",
    "            if row[1]!=\"#\":\n",
    "                home = row[0].split('-')[0]\n",
    "                away = row[0].split('-')[1]\n",
    "                if c==home:\n",
    "                    has += int(row[1].split(':')[0])*weight\n",
    "                    hds += int(row[1].split(':')[1])*weight\n",
    "                    weights_home.append(weight)\n",
    "                    weight = weight+1\n",
    "                if c==away:\n",
    "                    aas += int(row[1].split(':')[1])*weight\n",
    "                    ads += int(row[1].split(':')[0])*weight\n",
    "                    weights_away.append(weight)\n",
    "                    weight = weight+1\n",
    "        home_attack_strength[c] = has / (sum(weights_home)*avg_strzelone_dom_liga)\n",
    "        home_defence_strength[c] = hds / (sum(weights_home)*avg_strzelone_wyjazd_liga)\n",
    "        away_attack_strength[c] = aas / (sum(weights_away)*avg_strzelone_wyjazd_liga)\n",
    "        away_defence_strength[c] = ads / (sum(weights_away)*avg_strzelone_dom_liga)"
   ]
  },
  {
   "cell_type": "code",
   "execution_count": 18,
   "metadata": {},
   "outputs": [],
   "source": [
    "import numpy as np\n",
    "from collections import Counter\n",
    "from IPython.display import clear_output\n",
    "\n",
    "def display_matchday(a):\n",
    "    clear_output()\n",
    "    h = open(f\"Kolejki1Liga/{str(a)}\", \"r\", encoding='utf-8')\n",
    "    \n",
    "    for x in h:\n",
    "        home_team = x.strip().split(\",\")[0].split(\"-\")[0]\n",
    "        away_team = x.strip().split(\",\")[0].split(\"-\")[1]\n",
    "        rng = np.random.default_rng()\n",
    "        results = []\n",
    "        home = home_attack_strength[home_team]*away_defence_strength[away_team]*avg_strzelone_dom_liga\n",
    "        away = home_defence_strength[home_team]*away_attack_strength[away_team]*avg_strzelone_wyjazd_liga\n",
    "        print(home_team, \"vs\", away_team)\n",
    "        print(\"Siła:\", home, away)\n",
    "        for i in range(0,int(n.value)):\n",
    "            results.append((rng.poisson(home, 1)[0],rng.poisson(away, 1)[0]))\n",
    "        print(\"Prawdopodobieństwo czystego konta gospodarza:\", sum(x[1]==0 for x in results)/n.value)\n",
    "        print(\"Prawdopodobieństwo czystego konta gościa:\", sum(x[0]==0 for x in results)/n.value)\n",
    "        \n",
    "        print(\"Najbardziej prawdopodobne wyniki:\\n\",Counter(results).most_common(7),\"\\n\\n\\n\")\n",
    "    h.close()"
   ]
  },
  {
   "cell_type": "code",
   "execution_count": 19,
   "metadata": {},
   "outputs": [],
   "source": [
    "def on_confirm_button_clicked(b):\n",
    "    calculate_weighted_stats(kolejka.value)\n",
    "    with output:\n",
    "        display_matchday(kolejka.value)\n",
    "    \n",
    "button.on_click(on_confirm_button_clicked)"
   ]
  },
  {
   "cell_type": "code",
   "execution_count": 20,
   "metadata": {},
   "outputs": [],
   "source": [
    "#home = home_attack_strength[\"Płock\"]*away_defence_strength[\"Wisła\"]*avg_strzelone_dom_liga\n",
    "#away = home_defence_strength[\"Płock\"]*away_attack_strength[\"Wisła\"]*avg_strzelone_wyjazd_liga\n",
    "#results = []\n",
    "#rng = np.random.default_rng()\n",
    "#for i in range(0,int(n.value)):\n",
    "#    results.append((rng.poisson(home, 1)[0],rng.poisson(away, 1)[0]))\n",
    "#Counter(results).most_common(35)"
   ]
  }
 ],
 "metadata": {
  "kernelspec": {
   "display_name": "Python 3 (ipykernel)",
   "language": "python",
   "name": "python3"
  },
  "language_info": {
   "codemirror_mode": {
    "name": "ipython",
    "version": 3
   },
   "file_extension": ".py",
   "mimetype": "text/x-python",
   "name": "python",
   "nbconvert_exporter": "python",
   "pygments_lexer": "ipython3",
   "version": "3.8.8"
  }
 },
 "nbformat": 4,
 "nbformat_minor": 4
}
