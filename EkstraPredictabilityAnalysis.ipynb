{
 "cells": [
  {
   "cell_type": "code",
   "execution_count": 1,
   "metadata": {},
   "outputs": [
    {
     "data": {
      "text/html": [
       "<script>\n",
       "code_show=true; \n",
       "function code_toggle() {\n",
       " if (code_show){\n",
       " $('div.input').hide();\n",
       " } else {\n",
       " $('div.input').show();\n",
       " }\n",
       " code_show = !code_show\n",
       "} \n",
       "$( document ).ready(code_toggle);\n",
       "</script>\n",
       "<a href=\"javascript:code_toggle()\">Wyświetl kod</a>"
      ],
      "text/plain": [
       "<IPython.core.display.HTML object>"
      ]
     },
     "execution_count": 1,
     "metadata": {},
     "output_type": "execute_result"
    }
   ],
   "source": [
    "from IPython.display import HTML\n",
    "HTML('''<script>\n",
    "code_show=true; \n",
    "function code_toggle() {\n",
    " if (code_show){\n",
    " $('div.input').hide();\n",
    " } else {\n",
    " $('div.input').show();\n",
    " }\n",
    " code_show = !code_show\n",
    "} \n",
    "$( document ).ready(code_toggle);\n",
    "</script>\n",
    "<a href=\"javascript:code_toggle()\">Wyświetl kod</a>''')"
   ]
  },
  {
   "cell_type": "code",
   "execution_count": 2,
   "metadata": {},
   "outputs": [],
   "source": [
    "import ipywidgets as widgets\n",
    "from ipywidgets import Layout\n",
    "import os\n",
    "import pandas as pd\n",
    "from IPython.display import clear_output\n",
    "style = {'description_width': 'initial'}"
   ]
  },
  {
   "cell_type": "code",
   "execution_count": 3,
   "metadata": {},
   "outputs": [
    {
     "data": {
      "application/vnd.jupyter.widget-view+json": {
       "model_id": "c64d9e940f034174a697e296f72005e0",
       "version_major": 2,
       "version_minor": 0
      },
      "text/plain": [
       "BoundedIntText(value=1, description='Wybierz kolejkę:', max=30, min=1, style=DescriptionStyle(description_widt…"
      ]
     },
     "metadata": {},
     "output_type": "display_data"
    },
    {
     "data": {
      "application/vnd.jupyter.widget-view+json": {
       "model_id": "28063c0aa152492f8d524a032f167415",
       "version_major": 2,
       "version_minor": 0
      },
      "text/plain": [
       "Button(description='Zatwierdź', icon='check', style=ButtonStyle(), tooltip='Confirm')"
      ]
     },
     "metadata": {},
     "output_type": "display_data"
    },
    {
     "data": {
      "application/vnd.jupyter.widget-view+json": {
       "model_id": "6a359c05159041e2b6016f61c86e8f63",
       "version_major": 2,
       "version_minor": 0
      },
      "text/plain": [
       "Output()"
      ]
     },
     "metadata": {},
     "output_type": "display_data"
    }
   ],
   "source": [
    "kolejka = widgets.BoundedIntText(value=1, min=1, max=30, step=1, description='Wybierz kolejkę:', disabled=False, style=style)\n",
    "display(kolejka)\n",
    "button = widgets.Button(description='Zatwierdź',disabled=False,tooltip='Confirm',icon='check') \n",
    "output = widgets.Output()\n",
    "display(button,output)"
   ]
  },
  {
   "cell_type": "code",
   "execution_count": 4,
   "metadata": {},
   "outputs": [],
   "source": [
    "def on_confirm_button_clicked(b):\n",
    "    with output:\n",
    "        display_analysis(kolejka.value)\n",
    "    \n",
    "button.on_click(on_confirm_button_clicked)"
   ]
  },
  {
   "cell_type": "code",
   "execution_count": 5,
   "metadata": {},
   "outputs": [],
   "source": [
    "base = r'KolejkiEkstraklasa'"
   ]
  },
  {
   "cell_type": "code",
   "execution_count": 6,
   "metadata": {},
   "outputs": [],
   "source": [
    "def display_analysis(kolejka):\n",
    "    clear_output()\n",
    "    matchdays = []\n",
    "    for filename in os.listdir(base):\n",
    "        if int(filename)<kolejka:\n",
    "            matchday = pd.read_csv(f\"{base}/{filename}\", header=None)\n",
    "            matchdays.append(matchday)\n",
    "    league = pd.concat(matchdays, ignore_index=True)\n",
    "    g = open(\"Statystyki/poissonstats-ekstraklasa\", \"r\", encoding='utf-8')\n",
    "    clubs = [x.strip().split(\",\")[0] for x in g]\n",
    "    columns = [\"avg_prob\", \"avg_pos\", \"diff_points\", \"diff_goals\", \"diff_conceded\", \"clear_pred_amount\", \n",
    "               \"clear_pred_prob\", \"points\"]\n",
    "    clubs_pred = {}\n",
    "\n",
    "    for c in clubs:\n",
    "        clear_pred = 0\n",
    "        clear_real = 0\n",
    "        clubs_pred[c] = [0,0,0,0,0,0,0,0]\n",
    "        points = 0\n",
    "        for index, row in league.iterrows():\n",
    "            home = row[0].split('-')[0]\n",
    "            away = row[0].split('-')[1]\n",
    "            if c==home or c==away:\n",
    "                clubs_pred[c][0] += float(row[2])/14\n",
    "                clubs_pred[c][1] += int(row[3])/14\n",
    "                if c==row[0].split('-')[0]:\n",
    "                    a = (int(row[1].split(':')[0])-int(row[4].split(':')[0]))\n",
    "                    b = (int(row[1].split(':')[1])-int(row[4].split(':')[1]))\n",
    "                    clubs_pred[c][3] += a\n",
    "                    clubs_pred[c][4] += b\n",
    "                    if int(row[4].split(':')[1]) is 0:\n",
    "                        clear_pred += 1\n",
    "                        if int(row[1].split(':')[1]) is 0:\n",
    "                            clear_real +=1\n",
    "                    if int(row[4].split(':')[0])>int(row[4].split(':')[1]):\n",
    "                        points+=3\n",
    "                    elif int(row[4].split(':')[0]) is int(row[4].split(':')[1]):\n",
    "                        points+=1\n",
    "                elif c==row[0].strip().split('-')[1]:\n",
    "                    a = (int(row[1].split(':')[1])-int(row[4].split(':')[1]))\n",
    "                    b = (int(row[1].split(':')[0])-int(row[4].split(':')[0]))\n",
    "                    clubs_pred[c][3] += a\n",
    "                    clubs_pred[c][4] += b\n",
    "                    if int(row[4].split(':')[0]) is 0:\n",
    "                        clear_pred += 1\n",
    "                        if int(row[1].split(':')[0]) is 0:\n",
    "                            clear_real +=1\n",
    "                    if int(row[4].split(':')[1])>int(row[4].split(':')[0]):\n",
    "                        points+=3\n",
    "                    elif int(row[4].split(':')[1]) is int(row[4].split(':')[0]):\n",
    "                        points+=1   \n",
    "        clubs_pred[c][5] = clear_pred\n",
    "        clubs_pred[c][6] = clear_real/max(clear_pred,1)\n",
    "        clubs_pred[c][7] = points\n",
    "        \n",
    "    league_pred_df = pd.DataFrame.from_dict(clubs_pred, orient='index', columns = columns)\n",
    "    display(league_pred_df.sort_values(\"points\",ascending=False))"
   ]
  },
  {
   "cell_type": "code",
   "execution_count": null,
   "metadata": {},
   "outputs": [],
   "source": []
  }
 ],
 "metadata": {
  "kernelspec": {
   "display_name": "Python 3",
   "language": "python",
   "name": "python3"
  },
  "language_info": {
   "codemirror_mode": {
    "name": "ipython",
    "version": 3
   },
   "file_extension": ".py",
   "mimetype": "text/x-python",
   "name": "python",
   "nbconvert_exporter": "python",
   "pygments_lexer": "ipython3",
   "version": "3.7.5"
  }
 },
 "nbformat": 4,
 "nbformat_minor": 4
}
