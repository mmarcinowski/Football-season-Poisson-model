{
 "cells": [
  {
   "cell_type": "markdown",
   "metadata": {},
   "source": [
    "# EkstraModel"
   ]
  },
  {
   "cell_type": "code",
   "execution_count": 8,
   "metadata": {},
   "outputs": [
    {
     "data": {
      "text/html": [
       "<script>\n",
       "code_show=true; \n",
       "function code_toggle() {\n",
       " if (code_show){\n",
       " $('div.input').hide();\n",
       " } else {\n",
       " $('div.input').show();\n",
       " }\n",
       " code_show = !code_show\n",
       "} \n",
       "$( document ).ready(code_toggle);\n",
       "</script>\n",
       "<form action=\"javascript:code_toggle()\"><input type=\"submit\" value=\"Wyświetl/schowaj kod.\"></form>"
      ],
      "text/plain": [
       "<IPython.core.display.HTML object>"
      ]
     },
     "execution_count": 8,
     "metadata": {},
     "output_type": "execute_result"
    }
   ],
   "source": [
    "from IPython.display import HTML\n",
    "\n",
    "HTML('''<script>\n",
    "code_show=true; \n",
    "function code_toggle() {\n",
    " if (code_show){\n",
    " $('div.input').hide();\n",
    " } else {\n",
    " $('div.input').show();\n",
    " }\n",
    " code_show = !code_show\n",
    "} \n",
    "$( document ).ready(code_toggle);\n",
    "</script>\n",
    "<form action=\"javascript:code_toggle()\"><input type=\"submit\" value=\"Wyświetl/schowaj kod.\"></form>''')"
   ]
  },
  {
   "cell_type": "markdown",
   "metadata": {},
   "source": [
    "### Aby uruchomić, wciśnij spację"
   ]
  },
  {
   "cell_type": "code",
   "execution_count": 9,
   "metadata": {},
   "outputs": [],
   "source": [
    "import ipywidgets as widgets\n",
    "from ipywidgets import Layout\n",
    "\n",
    "style = {'description_width': 'initial'}"
   ]
  },
  {
   "cell_type": "code",
   "execution_count": 56,
   "metadata": {
    "scrolled": true
   },
   "outputs": [
    {
     "data": {
      "application/vnd.jupyter.widget-view+json": {
       "model_id": "8443dddd19c448b48a402b5f48e0068c",
       "version_major": 2,
       "version_minor": 0
      },
      "text/plain": [
       "FloatLogSlider(value=10000.0, description='Liczba symulacji', max=10.0, min=1.0, step=1.0, style=SliderStyle(d…"
      ]
     },
     "metadata": {},
     "output_type": "display_data"
    },
    {
     "data": {
      "application/vnd.jupyter.widget-view+json": {
       "model_id": "631be03976d649358d1e3e962b119e75",
       "version_major": 2,
       "version_minor": 0
      },
      "text/plain": [
       "Dropdown(description='Liga:', options=('ekstraklasa', '1liga'), value='ekstraklasa')"
      ]
     },
     "metadata": {},
     "output_type": "display_data"
    },
    {
     "data": {
      "application/vnd.jupyter.widget-view+json": {
       "model_id": "cdaf19ef1f6347abbd985ff133878143",
       "version_major": 2,
       "version_minor": 0
      },
      "text/plain": [
       "BoundedIntText(value=1, description='Wybierz kolejkę:', max=34, min=1, style=DescriptionStyle(description_widt…"
      ]
     },
     "metadata": {},
     "output_type": "display_data"
    },
    {
     "data": {
      "application/vnd.jupyter.widget-view+json": {
       "model_id": "3ef4f4cd63224ec2b8b7049d198a0262",
       "version_major": 2,
       "version_minor": 0
      },
      "text/plain": [
       "Button(description='Zatwierdź', icon='check', style=ButtonStyle(), tooltip='Confirm')"
      ]
     },
     "metadata": {},
     "output_type": "display_data"
    },
    {
     "data": {
      "application/vnd.jupyter.widget-view+json": {
       "model_id": "0bbf48b7521442679b58e3da72538dd7",
       "version_major": 2,
       "version_minor": 0
      },
      "text/plain": [
       "Output()"
      ]
     },
     "metadata": {},
     "output_type": "display_data"
    }
   ],
   "source": [
    "n = widgets.FloatLogSlider(value=10000, base=10, min=1, max=10, step=1, description='Liczba symulacji', style=style)\n",
    "matchday = widgets.BoundedIntText(value=1, min=1, max=34, step=1, description='Wybierz kolejkę:', disabled=False, style=style)\n",
    "league = widgets.Dropdown(options=['ekstraklasa', '1liga'], value='ekstraklasa', description='Liga:', disabled=False)\n",
    "\n",
    "display(n)\n",
    "display(league)\n",
    "display(matchday)\n",
    "\n",
    "button = widgets.Button(description='Zatwierdź',disabled=False,tooltip='Confirm',icon='check') \n",
    "output = widgets.Output()\n",
    "display(button,output)"
   ]
  },
  {
   "cell_type": "code",
   "execution_count": 63,
   "metadata": {},
   "outputs": [],
   "source": [
    "import os\n",
    "def initialize(now):\n",
    "    #structures for collecting data: goals shot and conceded, no. of matches played home and away, whole league shot and conceded\n",
    "    team_shot_home = {}\n",
    "    team_conceded_home = {}\n",
    "    team_shot_away = {}\n",
    "    team_conceded_away = {}\n",
    "    home_teams = []\n",
    "    away_teams = []\n",
    "    league_stats = {'shot_home_avg': 0, 'shot_away_avg':0}\n",
    "\n",
    "    #appending data to strcutures for all matchdays till the chosen one\n",
    "    matchdays_played = [int(m) for m in os.listdir(f\"{league.value}_matchdays\") if int(m)<int(now)]\n",
    "    matches_no = 0\n",
    "    for m in matchdays_played:\n",
    "        h = open(f\"{league.value}_matchdays/{m}\", \"r\", encoding='utf-8')\n",
    "        for match in h:\n",
    "            matches_no+=1\n",
    "            home, away, goal_home, goal_away = match.strip().split(\"-\")\n",
    "            goal_home, goal_away = int(goal_home), int(goal_away)\n",
    "            home_teams.append(home)\n",
    "            away_teams.append(away)\n",
    "\n",
    "            league_stats['shot_home_avg']+=goal_home\n",
    "            league_stats['shot_away_avg']+=goal_away\n",
    "            \n",
    "            if not home in team_shot_home:\n",
    "                team_shot_home[home]=goal_home\n",
    "                team_conceded_home[home]=goal_away\n",
    "            else:\n",
    "                team_shot_home[home]+=goal_home\n",
    "                team_conceded_home[home]+=goal_away\n",
    "            if not away in team_shot_away:\n",
    "                team_shot_away[away]=goal_away\n",
    "                team_conceded_away[away]=goal_home\n",
    "            else:\n",
    "                team_shot_away[away]+=goal_away\n",
    "                team_conceded_away[away]+=goal_home\n",
    "            \n",
    "        h.close()\n",
    "        \n",
    "    league_stats[\"shot_home_avg\"]/=matches_no\n",
    "    league_stats[\"shot_away_avg\"]/=matches_no\n",
    "\n",
    "    home_att_strength = {}\n",
    "    home_def_strength = {}\n",
    "    away_att_strength = {}\n",
    "    away_def_strength = {}\n",
    "\n",
    "    #calucalting defence and attack strength for each team\n",
    "    for k in team_shot_home.keys():\n",
    "        k_home = home_teams.count(k)\n",
    "        k_away = away_teams.count(k)\n",
    "        home_att_strength[k] = (team_shot_home[k]/k_home)/league_stats['shot_home_avg']\n",
    "        home_def_strength[k] = (team_conceded_home[k]/k_home)/league_stats['shot_away_avg']\n",
    "        away_att_strength[k] = (team_shot_away[k]/k_away)/league_stats['shot_away_avg']\n",
    "        away_def_strength[k] = (team_conceded_home[k]/k_away)/league_stats['shot_home_avg']\n",
    "\n",
    "    return league_stats, home_att_strength, home_def_strength, away_att_strength, away_def_strength"
   ]
  },
  {
   "cell_type": "code",
   "execution_count": 64,
   "metadata": {},
   "outputs": [],
   "source": [
    "import numpy as np\n",
    "from collections import Counter\n",
    "from IPython.display import clear_output\n",
    "\n",
    "def display_matchday(a):\n",
    "    clear_output()\n",
    "    league_stats, home_att_strength, home_def_strength, away_att_strength, away_def_strength = initialize(a)\n",
    "    current = open(f\"{league.value}_matchdays/{str(a)}\", \"r\", encoding='utf-8')\n",
    "    for match in current:\n",
    "        home_team = match.strip().split(\"-\")[0]\n",
    "        away_team = match.strip().split(\"-\")[1]\n",
    "        rng = np.random.default_rng()\n",
    "        results = []\n",
    "        home = home_att_strength[home_team]*away_def_strength[away_team]*league_stats['shot_home_avg']\n",
    "        away = home_def_strength[home_team]*away_att_strength[away_team]*league_stats['shot_away_avg']\n",
    "        print(home_team, \"vs\", away_team)\n",
    "        print(\"Siła:\", home, away)\n",
    "        for i in range(0, int(n.value)):\n",
    "            results.append((int(rng.poisson(home, 1)[0]),int(rng.poisson(away, 1)[0])))\n",
    "        print(\"Prawdopodobieństwo czystego konta gospodarza:\", round(sum(x[1]==0 for x in results)/n.value, 4))\n",
    "        print(\"Prawdopodobieństwo czystego konta gościa:\", round(sum(x[0]==0 for x in results)/n.value, 4))\n",
    "        \n",
    "        print(\"Najbardziej prawdopodobne wyniki:\\n\", Counter(results).most_common(7),\"\\n\\n\\n\")\n",
    "    current.close()"
   ]
  },
  {
   "cell_type": "code",
   "execution_count": 65,
   "metadata": {},
   "outputs": [],
   "source": [
    "def on_confirm_button_clicked(b):\n",
    "    with output:\n",
    "        display_matchday(matchday.value)\n",
    "    \n",
    "button.on_click(on_confirm_button_clicked)"
   ]
  },
  {
   "cell_type": "code",
   "execution_count": null,
   "metadata": {},
   "outputs": [],
   "source": []
  },
  {
   "cell_type": "code",
   "execution_count": null,
   "metadata": {},
   "outputs": [],
   "source": []
  }
 ],
 "metadata": {
  "kernelspec": {
   "display_name": "Python 3 (ipykernel)",
   "language": "python",
   "name": "python3"
  },
  "language_info": {
   "codemirror_mode": {
    "name": "ipython",
    "version": 3
   },
   "file_extension": ".py",
   "mimetype": "text/x-python",
   "name": "python",
   "nbconvert_exporter": "python",
   "pygments_lexer": "ipython3",
   "version": "3.11.6"
  },
  "widgets": {
   "application/vnd.jupyter.widget-state+json": {
    "state": {
     "091480b32c7544cf9a4279e50e96bd14": {
      "model_module": "@jupyter-widgets/controls",
      "model_module_version": "1.5.0",
      "model_name": "FloatSliderModel",
      "state": {
       "description": "Mnożnik strzelonych u siebie bramek przez Wartę",
       "layout": "IPY_MODEL_88a42835e6324a4094a70caf0b487ea1",
       "max": 2,
       "min": 0.35,
       "step": 0.05,
       "style": "IPY_MODEL_ecc3eb4a3373434493c2ab5481e29ff8",
       "value": 0.7
      }
     },
     "0bed063ae5a44489a6a39c8a3bc7ff9a": {
      "model_module": "@jupyter-widgets/base",
      "model_module_version": "1.2.0",
      "model_name": "LayoutModel",
      "state": {
       "min_width": "50%"
      }
     },
     "0cd14f54310c41da8ed4781f4233e7c7": {
      "model_module": "@jupyter-widgets/base",
      "model_module_version": "1.2.0",
      "model_name": "LayoutModel",
      "state": {
       "min_width": "50%"
      }
     },
     "1773a79454464ec8993aaf3de8b2fb54": {
      "model_module": "@jupyter-widgets/controls",
      "model_module_version": "1.5.0",
      "model_name": "FloatSliderModel",
      "state": {
       "description": "Mnożnik straconych u siebie bramek przez Wartę",
       "layout": "IPY_MODEL_93a66cbb46404ed3a530a98e959051d6",
       "max": 3.5,
       "min": 0.5,
       "step": 0.05,
       "style": "IPY_MODEL_f79900d8287d4952aff0590b0dc046c5",
       "value": 2.8
      }
     },
     "1a2c3d24b8d646549f612a61955a926a": {
      "model_module": "@jupyter-widgets/controls",
      "model_module_version": "1.5.0",
      "model_name": "ButtonModel",
      "state": {
       "description": "Zatwierdź",
       "icon": "check",
       "layout": "IPY_MODEL_3a5776f13cb84a5588d6b1ff65ab0549",
       "style": "IPY_MODEL_a221dd67a89b4d9fa1479b5874b1a0e9",
       "tooltip": "Confirm"
      }
     },
     "1c4714856e2d40fd928125599d6a0642": {
      "model_module": "@jupyter-widgets/controls",
      "model_module_version": "1.5.0",
      "model_name": "FloatSliderModel",
      "state": {
       "description": "Mnożnik straconych na wyjeździe bramek przez Wartę",
       "layout": "IPY_MODEL_0bed063ae5a44489a6a39c8a3bc7ff9a",
       "max": 3.5,
       "min": 0.5,
       "step": 0.05,
       "style": "IPY_MODEL_1cdc3041208c43ed85cc9152a2257b8e",
       "value": 2.15
      }
     },
     "1cdc3041208c43ed85cc9152a2257b8e": {
      "model_module": "@jupyter-widgets/controls",
      "model_module_version": "1.5.0",
      "model_name": "SliderStyleModel",
      "state": {
       "description_width": "initial"
      }
     },
     "2846506364404b53afcade5363e30519": {
      "model_module": "@jupyter-widgets/base",
      "model_module_version": "1.2.0",
      "model_name": "LayoutModel",
      "state": {
       "min_width": "50%"
      }
     },
     "2e5af3cc70734ec5beacc265e24df46a": {
      "model_module": "@jupyter-widgets/base",
      "model_module_version": "1.2.0",
      "model_name": "LayoutModel",
      "state": {}
     },
     "2f09f27402e14ffebbb180b78ffd4c0c": {
      "model_module": "@jupyter-widgets/base",
      "model_module_version": "1.2.0",
      "model_name": "LayoutModel",
      "state": {
       "min_width": "50%"
      }
     },
     "30a96c514dc54a8284b98eb324c270f0": {
      "model_module": "@jupyter-widgets/controls",
      "model_module_version": "1.5.0",
      "model_name": "SliderStyleModel",
      "state": {
       "description_width": "initial"
      }
     },
     "3212de7297a64975a8bde0dee389f937": {
      "model_module": "@jupyter-widgets/base",
      "model_module_version": "1.2.0",
      "model_name": "LayoutModel",
      "state": {
       "min_width": "50%"
      }
     },
     "350bcc1f71bf43b591fb2936524f3adb": {
      "model_module": "@jupyter-widgets/controls",
      "model_module_version": "1.5.0",
      "model_name": "SliderStyleModel",
      "state": {
       "description_width": "initial"
      }
     },
     "35961d515579461f892dd8a7d2973a85": {
      "model_module": "@jupyter-widgets/controls",
      "model_module_version": "1.5.0",
      "model_name": "DescriptionStyleModel",
      "state": {
       "description_width": "initial"
      }
     },
     "3a5776f13cb84a5588d6b1ff65ab0549": {
      "model_module": "@jupyter-widgets/base",
      "model_module_version": "1.2.0",
      "model_name": "LayoutModel",
      "state": {}
     },
     "41392b5fc1904f8e999ded3a9772771b": {
      "model_module": "@jupyter-widgets/controls",
      "model_module_version": "1.5.0",
      "model_name": "BoundedIntTextModel",
      "state": {
       "description": "Wybierz kolejkę:",
       "layout": "IPY_MODEL_94c39e0385ac4115b9f6b23d22700d45",
       "max": 30,
       "min": 1,
       "style": "IPY_MODEL_35961d515579461f892dd8a7d2973a85",
       "value": 1
      }
     },
     "41ddbc5eedc84a65805204e53431ed48": {
      "model_module": "@jupyter-widgets/controls",
      "model_module_version": "1.5.0",
      "model_name": "SliderStyleModel",
      "state": {
       "description_width": "initial"
      }
     },
     "51182df5959147b0b2a086f0bf8e5c2d": {
      "model_module": "@jupyter-widgets/controls",
      "model_module_version": "1.5.0",
      "model_name": "SliderStyleModel",
      "state": {
       "description_width": "initial"
      }
     },
     "55a72a8911664b19aef19df50dba27a6": {
      "model_module": "@jupyter-widgets/controls",
      "model_module_version": "1.5.0",
      "model_name": "SliderStyleModel",
      "state": {
       "description_width": "initial"
      }
     },
     "5de66e31503548e9bd7f6d1165d11f8a": {
      "model_module": "@jupyter-widgets/base",
      "model_module_version": "1.2.0",
      "model_name": "LayoutModel",
      "state": {}
     },
     "5e308ace602046f29e1ba511bafeef11": {
      "model_module": "@jupyter-widgets/controls",
      "model_module_version": "1.5.0",
      "model_name": "FloatSliderModel",
      "state": {
       "description": "Mnożnik strzelonych na wyjeździe bramek przez Stal",
       "layout": "IPY_MODEL_e85fd9599e174a468e7f7ea146d8e882",
       "max": 2,
       "min": 0.35,
       "step": 0.05,
       "style": "IPY_MODEL_55a72a8911664b19aef19df50dba27a6",
       "value": 0.9
      }
     },
     "643b04e963da4e0f9d6e75094597c5ca": {
      "model_module": "@jupyter-widgets/controls",
      "model_module_version": "1.5.0",
      "model_name": "FloatSliderModel",
      "state": {
       "description": "Mnożnik strzelonych u siebie bramek przez Stal",
       "layout": "IPY_MODEL_0cd14f54310c41da8ed4781f4233e7c7",
       "max": 2,
       "min": 0.35,
       "step": 0.05,
       "style": "IPY_MODEL_51182df5959147b0b2a086f0bf8e5c2d",
       "value": 0.85
      }
     },
     "6776d6bc2f494e20a117de366030bd15": {
      "model_module": "@jupyter-widgets/base",
      "model_module_version": "1.2.0",
      "model_name": "LayoutModel",
      "state": {
       "min_width": "50%"
      }
     },
     "6a49b7ed13744483a6371acb3e646b01": {
      "model_module": "@jupyter-widgets/controls",
      "model_module_version": "1.5.0",
      "model_name": "FloatSliderModel",
      "state": {
       "description": "Mnożnik straconych na wyjeździe bramek przez Stal",
       "layout": "IPY_MODEL_3212de7297a64975a8bde0dee389f937",
       "max": 3.5,
       "min": 0.5,
       "step": 0.05,
       "style": "IPY_MODEL_729ff30ef0b744618dfea38af1430951",
       "value": 2.15
      }
     },
     "729ff30ef0b744618dfea38af1430951": {
      "model_module": "@jupyter-widgets/controls",
      "model_module_version": "1.5.0",
      "model_name": "SliderStyleModel",
      "state": {
       "description_width": "initial"
      }
     },
     "7a181419d4654e9798ca28dfad52b323": {
      "model_module": "@jupyter-widgets/controls",
      "model_module_version": "1.5.0",
      "model_name": "FloatLogSliderModel",
      "state": {
       "description": "Liczba symulacji",
       "layout": "IPY_MODEL_5de66e31503548e9bd7f6d1165d11f8a",
       "max": 10,
       "min": 1,
       "step": 1,
       "style": "IPY_MODEL_41ddbc5eedc84a65805204e53431ed48",
       "value": 10000
      }
     },
     "88a42835e6324a4094a70caf0b487ea1": {
      "model_module": "@jupyter-widgets/base",
      "model_module_version": "1.2.0",
      "model_name": "LayoutModel",
      "state": {
       "min_width": "50%"
      }
     },
     "93a66cbb46404ed3a530a98e959051d6": {
      "model_module": "@jupyter-widgets/base",
      "model_module_version": "1.2.0",
      "model_name": "LayoutModel",
      "state": {
       "min_width": "50%"
      }
     },
     "94c39e0385ac4115b9f6b23d22700d45": {
      "model_module": "@jupyter-widgets/base",
      "model_module_version": "1.2.0",
      "model_name": "LayoutModel",
      "state": {}
     },
     "a221dd67a89b4d9fa1479b5874b1a0e9": {
      "model_module": "@jupyter-widgets/controls",
      "model_module_version": "1.5.0",
      "model_name": "ButtonStyleModel",
      "state": {}
     },
     "a6988fc2b92943cf9de93430fa283ff4": {
      "model_module": "@jupyter-widgets/controls",
      "model_module_version": "1.5.0",
      "model_name": "FloatSliderModel",
      "state": {
       "description": "Mnożnik strzelonych na wyjeździe bramek przez Wartę",
       "layout": "IPY_MODEL_2846506364404b53afcade5363e30519",
       "max": 2,
       "min": 0.35,
       "step": 0.05,
       "style": "IPY_MODEL_f80c17783100491580679b0397299014",
       "value": 0.9
      }
     },
     "b172e671fb414802a015346577fe7e5c": {
      "model_module": "@jupyter-widgets/controls",
      "model_module_version": "1.5.0",
      "model_name": "FloatSliderModel",
      "state": {
       "description": "Mnożnik strzelonych na wyjeździe bramek przez Podbeskidzie",
       "layout": "IPY_MODEL_2f09f27402e14ffebbb180b78ffd4c0c",
       "max": 2,
       "min": 0.35,
       "step": 0.05,
       "style": "IPY_MODEL_f2e237ec80424174b19ff258ada1106a",
       "value": 0.9
      }
     },
     "b765f16f8943493c88ef63a9786c7446": {
      "model_module": "@jupyter-widgets/controls",
      "model_module_version": "1.5.0",
      "model_name": "FloatSliderModel",
      "state": {
       "description": "Mnożnik strzelonych u siebie bramek przez Podbeskidzie",
       "layout": "IPY_MODEL_eb322b0e89a9479f8f170a861e7fbc68",
       "max": 2,
       "min": 0.35,
       "step": 0.05,
       "style": "IPY_MODEL_30a96c514dc54a8284b98eb324c270f0",
       "value": 1.1
      }
     },
     "bbfafab2acae4884b9543d7c9a7c4dec": {
      "model_module": "@jupyter-widgets/output",
      "model_module_version": "1.0.0",
      "model_name": "OutputModel",
      "state": {
       "layout": "IPY_MODEL_2e5af3cc70734ec5beacc265e24df46a"
      }
     },
     "cae7d0521f0e48b8b3906e942dffe9dd": {
      "model_module": "@jupyter-widgets/controls",
      "model_module_version": "1.5.0",
      "model_name": "SliderStyleModel",
      "state": {
       "description_width": "initial"
      }
     },
     "cb03f1639de041f2b558f99f739a7470": {
      "model_module": "@jupyter-widgets/controls",
      "model_module_version": "1.5.0",
      "model_name": "FloatSliderModel",
      "state": {
       "description": "Mnożnik straconych na wyjeździe bramek przez Podbeskidzie",
       "layout": "IPY_MODEL_6776d6bc2f494e20a117de366030bd15",
       "max": 3.5,
       "min": 0.5,
       "step": 0.05,
       "style": "IPY_MODEL_ee20b597f9b946fd9ea4d321a4001ece",
       "value": 2.15
      }
     },
     "dac53e2cba514b769e43842ae9a04ae9": {
      "model_module": "@jupyter-widgets/base",
      "model_module_version": "1.2.0",
      "model_name": "LayoutModel",
      "state": {
       "min_width": "50%"
      }
     },
     "e85fd9599e174a468e7f7ea146d8e882": {
      "model_module": "@jupyter-widgets/base",
      "model_module_version": "1.2.0",
      "model_name": "LayoutModel",
      "state": {
       "min_width": "50%"
      }
     },
     "eb322b0e89a9479f8f170a861e7fbc68": {
      "model_module": "@jupyter-widgets/base",
      "model_module_version": "1.2.0",
      "model_name": "LayoutModel",
      "state": {
       "min_width": "50%"
      }
     },
     "ecc3eb4a3373434493c2ab5481e29ff8": {
      "model_module": "@jupyter-widgets/controls",
      "model_module_version": "1.5.0",
      "model_name": "SliderStyleModel",
      "state": {
       "description_width": "initial"
      }
     },
     "ee20b597f9b946fd9ea4d321a4001ece": {
      "model_module": "@jupyter-widgets/controls",
      "model_module_version": "1.5.0",
      "model_name": "SliderStyleModel",
      "state": {
       "description_width": "initial"
      }
     },
     "efd211d76c534a51ac413064b450ae4e": {
      "model_module": "@jupyter-widgets/controls",
      "model_module_version": "1.5.0",
      "model_name": "FloatSliderModel",
      "state": {
       "description": "Mnożnik straconych u siebie bramek przez Stal",
       "layout": "IPY_MODEL_dac53e2cba514b769e43842ae9a04ae9",
       "max": 3.5,
       "min": 0.5,
       "step": 0.05,
       "style": "IPY_MODEL_cae7d0521f0e48b8b3906e942dffe9dd",
       "value": 2.8
      }
     },
     "f0b46e0655414c51948ab0ec7c466211": {
      "model_module": "@jupyter-widgets/controls",
      "model_module_version": "1.5.0",
      "model_name": "FloatSliderModel",
      "state": {
       "description": "Mnożnik straconych u siebie bramek przez Podbeskidzie",
       "layout": "IPY_MODEL_f0c0c2764b8e4e34bafc13c8e0a30ce7",
       "max": 3.5,
       "min": 0.5,
       "step": 0.05,
       "style": "IPY_MODEL_350bcc1f71bf43b591fb2936524f3adb",
       "value": 2.8
      }
     },
     "f0c0c2764b8e4e34bafc13c8e0a30ce7": {
      "model_module": "@jupyter-widgets/base",
      "model_module_version": "1.2.0",
      "model_name": "LayoutModel",
      "state": {
       "min_width": "50%"
      }
     },
     "f2e237ec80424174b19ff258ada1106a": {
      "model_module": "@jupyter-widgets/controls",
      "model_module_version": "1.5.0",
      "model_name": "SliderStyleModel",
      "state": {
       "description_width": "initial"
      }
     },
     "f79900d8287d4952aff0590b0dc046c5": {
      "model_module": "@jupyter-widgets/controls",
      "model_module_version": "1.5.0",
      "model_name": "SliderStyleModel",
      "state": {
       "description_width": "initial"
      }
     },
     "f80c17783100491580679b0397299014": {
      "model_module": "@jupyter-widgets/controls",
      "model_module_version": "1.5.0",
      "model_name": "SliderStyleModel",
      "state": {
       "description_width": "initial"
      }
     }
    },
    "version_major": 2,
    "version_minor": 0
   }
  }
 },
 "nbformat": 4,
 "nbformat_minor": 4
}
