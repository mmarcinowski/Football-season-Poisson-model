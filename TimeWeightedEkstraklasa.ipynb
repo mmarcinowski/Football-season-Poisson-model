{
 "cells": [
  {
   "cell_type": "code",
   "execution_count": 1,
   "metadata": {},
   "outputs": [
    {
     "data": {
      "text/html": [
       "<script>\n",
       "code_show=true; \n",
       "function code_toggle() {\n",
       " if (code_show){\n",
       " $('div.input').hide();\n",
       " } else {\n",
       " $('div.input').show();\n",
       " }\n",
       " code_show = !code_show\n",
       "} \n",
       "$( document ).ready(code_toggle);\n",
       "</script>\n",
       "<a href=\"javascript:code_toggle()\">Wyświetl kod</a>"
      ],
      "text/plain": [
       "<IPython.core.display.HTML object>"
      ]
     },
     "execution_count": 1,
     "metadata": {},
     "output_type": "execute_result"
    }
   ],
   "source": [
    "from IPython.display import HTML\n",
    "HTML('''<script>\n",
    "code_show=true; \n",
    "function code_toggle() {\n",
    " if (code_show){\n",
    " $('div.input').hide();\n",
    " } else {\n",
    " $('div.input').show();\n",
    " }\n",
    " code_show = !code_show\n",
    "} \n",
    "$( document ).ready(code_toggle);\n",
    "</script>\n",
    "<a href=\"javascript:code_toggle()\">Wyświetl kod</a>''')"
   ]
  },
  {
   "cell_type": "code",
   "execution_count": 2,
   "metadata": {},
   "outputs": [],
   "source": [
    "import ipywidgets as widgets\n",
    "from ipywidgets import Layout\n",
    "\n",
    "style = {'description_width': 'initial'}"
   ]
  },
  {
   "cell_type": "code",
   "execution_count": 3,
   "metadata": {
    "scrolled": false
   },
   "outputs": [
    {
     "data": {
      "application/vnd.jupyter.widget-view+json": {
       "model_id": "86c8eaa4bab2411bb8d57b3341a9e165",
       "version_major": 2,
       "version_minor": 0
      },
      "text/plain": [
       "FloatLogSlider(value=10000.0, description='Liczba symulacji', max=10.0, min=1.0, step=1.0, style=SliderStyle(d…"
      ]
     },
     "metadata": {},
     "output_type": "display_data"
    },
    {
     "data": {
      "application/vnd.jupyter.widget-view+json": {
       "model_id": "45b5b860b0b04edf8d36b5d853bad399",
       "version_major": 2,
       "version_minor": 0
      },
      "text/plain": [
       "BoundedIntText(value=1, description='Wybierz kolejkę:', max=34, min=1, style=DescriptionStyle(description_widt…"
      ]
     },
     "metadata": {},
     "output_type": "display_data"
    },
    {
     "data": {
      "application/vnd.jupyter.widget-view+json": {
       "model_id": "c09d8553af334924a2c1cb7c07b0adc7",
       "version_major": 2,
       "version_minor": 0
      },
      "text/plain": [
       "Button(description='Zatwierdź', icon='check', style=ButtonStyle(), tooltip='Confirm')"
      ]
     },
     "metadata": {},
     "output_type": "display_data"
    },
    {
     "data": {
      "application/vnd.jupyter.widget-view+json": {
       "model_id": "23d6e5b2c6a74804990d6265e0d7e570",
       "version_major": 2,
       "version_minor": 0
      },
      "text/plain": [
       "Output()"
      ]
     },
     "metadata": {},
     "output_type": "display_data"
    }
   ],
   "source": [
    "n = widgets.FloatLogSlider(value=10000, base=10, min=1, max=10, step=1, description='Liczba symulacji', style=style)\n",
    "kolejka = widgets.BoundedIntText(value=1, min=1, max=34, step=1, description='Wybierz kolejkę:', disabled=False, style=style)\n",
    "\n",
    "display(n)\n",
    "display(kolejka)\n",
    "\n",
    "button = widgets.Button(description='Zatwierdź',disabled=False,tooltip='Confirm',icon='check') \n",
    "output = widgets.Output()\n",
    "display(button,output)"
   ]
  },
  {
   "cell_type": "code",
   "execution_count": 4,
   "metadata": {},
   "outputs": [],
   "source": [
    "strzelone_dom = {\n",
    "    1: 13,    2: 15,    3: 12,    4: 15,    5: 20,    6: 10,    7: 12,    8: 17,    9: 12,    10: 23,\n",
    "    11: 10,    12: 20,    13: 10,    14: 9,    15: 15,    16: 19,    17: 16,    18: 12,    19: 15,    20: 13,\n",
    "    21: 11,    22: 9,    23: 10,    24: 14,    25: 7,    26: 13,    27: 11,    28: 16,    29: 5,    30: 17,    \n",
    "    31: 12,     32: 13,    33: 16,     34 : 17\n",
    "}"
   ]
  },
  {
   "cell_type": "code",
   "execution_count": 5,
   "metadata": {},
   "outputs": [],
   "source": [
    "strzelone_wyjazd = {\n",
    "    1: 8,    2: 12,    3: 7,    4: 14,    5: 9,    6: 11,    7: 11,    8: 7,    9: 16,    10: 9,\n",
    "    11: 10,    12: 13,    13: 12,    14: 9,    15: 12,    16: 7,    17: 14,    18: 9,    19: 9,    20: 13,\n",
    "    21: 9,    22: 7,    23: 7,    24: 4,    25: 8,    26: 11,    27: 16,    28: 8,    29: 12,    30: 17,    \n",
    "    31: 9,     32: 19,    33: 10,     34 : 10\n",
    "}"
   ]
  },
  {
   "cell_type": "code",
   "execution_count": 6,
   "metadata": {},
   "outputs": [],
   "source": [
    "mecze_liga = 34*9"
   ]
  },
  {
   "cell_type": "code",
   "execution_count": 7,
   "metadata": {},
   "outputs": [],
   "source": [
    "import pandas as pd\n",
    "import os\n",
    "\n",
    "def calculate_weighted_stats(w):\n",
    "    base = r'KolejkiEkstraklasa'\n",
    "    matchdays = []\n",
    "    for filename in os.listdir(base):\n",
    "        if int(filename)<w:\n",
    "            matchday = pd.read_csv(f\"{base}/{filename}\", header=None)\n",
    "            matchdays.append(matchday)\n",
    "    league = pd.concat(matchdays, ignore_index=True)\n",
    "    g = open(\"Statystyki/poissonstats-ekstraklasa\", \"r\", encoding='utf-8')\n",
    "    clubs = [x.strip().split(\",\")[0] for x in g]\n",
    "    \n",
    "    global home_attack_strength\n",
    "    global home_defence_strength\n",
    "    global away_attack_strength\n",
    "    global away_defence_strength\n",
    "    home_attack_strength = {}\n",
    "    home_defence_strength = {}\n",
    "    away_attack_strength = {}\n",
    "    away_defence_strength = {}\n",
    "    \n",
    "    global avg_strzelone_dom_liga\n",
    "    global avg_strzelone_wyjazd_liga\n",
    "    avg_strzelone_dom_liga = sum([k*v/(8*sum(range(1,w))) for k,v in strzelone_dom.items() if k<w])\n",
    "    avg_strzelone_wyjazd_liga = sum([k*v/(8*sum(range(1,w))) for k,v in strzelone_wyjazd.items() if k<w])\n",
    "    \n",
    "    for c in clubs:\n",
    "        weight = 1\n",
    "        weights_away = []\n",
    "        weights_home = []\n",
    "        has = 0\n",
    "        hds = 0\n",
    "        aas = 0\n",
    "        ads = 0\n",
    "        for index, row in league.iterrows():\n",
    "            if row[1]!=\"#\":\n",
    "                home = row[0].split('-')[0]\n",
    "                away = row[0].split('-')[1]\n",
    "                if c==home:\n",
    "                    has += int(row[1].split(':')[0])*weight\n",
    "                    hds += int(row[1].split(':')[1])*weight\n",
    "                    weights_home.append(weight)\n",
    "                    weight = weight+1\n",
    "                if c==away:\n",
    "                    aas += int(row[1].split(':')[1])*weight\n",
    "                    ads += int(row[1].split(':')[0])*weight\n",
    "                    weights_away.append(weight)\n",
    "                    weight = weight+1\n",
    "        home_attack_strength[c] = has / (sum(weights_home)*avg_strzelone_dom_liga)\n",
    "        home_defence_strength[c] = hds / (sum(weights_home)*avg_strzelone_wyjazd_liga)\n",
    "        away_attack_strength[c] = aas / (sum(weights_away)*avg_strzelone_wyjazd_liga)\n",
    "        away_defence_strength[c] = ads / (sum(weights_away)*avg_strzelone_dom_liga)"
   ]
  },
  {
   "cell_type": "code",
   "execution_count": 8,
   "metadata": {},
   "outputs": [],
   "source": [
    "import numpy as np\n",
    "from collections import Counter\n",
    "from IPython.display import clear_output\n",
    "\n",
    "def display_matchday(a):\n",
    "    clear_output()\n",
    "    h = open(f\"KolejkiEkstraklasa/{str(a)}\", \"r\", encoding='utf-8')\n",
    "    \n",
    "    for x in h:\n",
    "        home_team = x.strip().split(\",\")[0].split(\"-\")[0]\n",
    "        away_team = x.strip().split(\",\")[0].split(\"-\")[1]\n",
    "        rng = np.random.default_rng()\n",
    "        results = []\n",
    "        home = home_attack_strength[home_team]*away_defence_strength[away_team]*avg_strzelone_dom_liga\n",
    "        away = home_defence_strength[home_team]*away_attack_strength[away_team]*avg_strzelone_wyjazd_liga\n",
    "        print(home_team, \"vs\", away_team)\n",
    "        print(\"Siła:\", home, away)\n",
    "        for i in range(0,int(n.value)):\n",
    "            results.append((rng.poisson(home, 1)[0],rng.poisson(away, 1)[0]))\n",
    "        print(\"Prawdopodobieństwo czystego konta gospodarza:\", sum(x[1]==0 for x in results)/n.value)\n",
    "        print(\"Prawdopodobieństwo czystego konta gościa:\", sum(x[0]==0 for x in results)/n.value)\n",
    "        \n",
    "        print(\"Najbardziej prawdopodobne wyniki:\\n\",Counter(results).most_common(7),\"\\n\\n\\n\")\n",
    "    h.close()"
   ]
  },
  {
   "cell_type": "code",
   "execution_count": 9,
   "metadata": {},
   "outputs": [],
   "source": [
    "def on_confirm_button_clicked(b):\n",
    "    calculate_weighted_stats(kolejka.value)\n",
    "    with output:\n",
    "        display_matchday(kolejka.value)\n",
    "    \n",
    "button.on_click(on_confirm_button_clicked)"
   ]
  },
  {
   "cell_type": "code",
   "execution_count": 10,
   "metadata": {},
   "outputs": [],
   "source": [
    "#home = home_attack_strength[\"Podbeskidzie\"]*away_defence_strength[\"Wisła\"]*avg_strzelone_dom_liga\n",
    "#away = home_defence_strength[\"Podbeskidzie\"]*away_attack_strength[\"Wisła\"]*avg_strzelone_wyjazd_liga\n",
    "#results = []\n",
    "#rng = np.random.default_rng()\n",
    "#for i in range(0,int(n.value)):\n",
    "#    results.append((rng.poisson(home, 1)[0],rng.poisson(away, 1)[0]))\n",
    "#Counter(results).most_common(35)"
   ]
  }
 ],
 "metadata": {
  "kernelspec": {
   "display_name": "Python 3 (ipykernel)",
   "language": "python",
   "name": "python3"
  },
  "language_info": {
   "codemirror_mode": {
    "name": "ipython",
    "version": 3
   },
   "file_extension": ".py",
   "mimetype": "text/x-python",
   "name": "python",
   "nbconvert_exporter": "python",
   "pygments_lexer": "ipython3",
   "version": "3.8.8"
  }
 },
 "nbformat": 4,
 "nbformat_minor": 4
}
