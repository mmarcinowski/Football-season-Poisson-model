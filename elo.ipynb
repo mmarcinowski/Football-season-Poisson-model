{
  "nbformat": 4,
  "nbformat_minor": 0,
  "metadata": {
    "colab": {
      "provenance": []
    },
    "kernelspec": {
      "name": "python3",
      "display_name": "Python 3"
    },
    "language_info": {
      "name": "python"
    }
  },
  "cells": [
    {
      "cell_type": "code",
      "execution_count": 2,
      "metadata": {
        "id": "xod_AYSgOlV5"
      },
      "outputs": [],
      "source": [
        "def expected_result(rank_d, rank_w):\n",
        "  return 1/(10**(-(rank_d-rank_w)/400)+1)"
      ]
    },
    {
      "cell_type": "code",
      "source": [
        "expected_result(0,120)"
      ],
      "metadata": {
        "colab": {
          "base_uri": "https://localhost:8080/"
        },
        "id": "wnNcKksePIHt",
        "outputId": "1d316c72-285c-418b-869e-5222e685f9e8"
      },
      "execution_count": 3,
      "outputs": [
        {
          "output_type": "execute_result",
          "data": {
            "text/plain": [
              "0.3338605754168779"
            ]
          },
          "metadata": {},
          "execution_count": 3
        }
      ]
    },
    {
      "cell_type": "code",
      "source": [
        "sum = 0"
      ],
      "metadata": {
        "id": "TNmdYgG1RgRN"
      },
      "execution_count": 219,
      "outputs": []
    },
    {
      "cell_type": "code",
      "source": [
        "def elo(rank_d, rank_w, goals_d, goals_w):\n",
        "  result = 1 if goals_d>goals_w else 0 if goals_d<goals_w else 0.5\n",
        "  G = 1 if abs(goals_d-goals_w)==1 else 1.5 if abs(goals_d-goals_w)==2 else ((11+abs(goals_d-goals_w))/8)\n",
        "  return G*(result-expected_result(rank_d, rank_w))"
      ],
      "metadata": {
        "id": "3fK1CMCIPUoq"
      },
      "execution_count": 10,
      "outputs": []
    },
    {
      "cell_type": "code",
      "source": [
        "#raków\n",
        "rank_d = 1492\n",
        "rank_w = 1364\n",
        "goals_d = 3\n",
        "goals_w = 2"
      ],
      "metadata": {
        "id": "lJTap4qZQyzm"
      },
      "execution_count": 232,
      "outputs": []
    },
    {
      "cell_type": "code",
      "source": [
        "result = elo(rank_d, rank_w, goals_d, goals_w)\n",
        "result"
      ],
      "metadata": {
        "colab": {
          "base_uri": "https://localhost:8080/"
        },
        "id": "eZBzUz23Q7T5",
        "outputId": "b0f1c935-af9e-48fa-b139-f71a65a3f437"
      },
      "execution_count": 233,
      "outputs": [
        {
          "output_type": "execute_result",
          "data": {
            "text/plain": [
              "0.32369833050726304"
            ]
          },
          "metadata": {},
          "execution_count": 233
        }
      ]
    },
    {
      "cell_type": "code",
      "source": [
        "sum = sum+result\n",
        "sum"
      ],
      "metadata": {
        "colab": {
          "base_uri": "https://localhost:8080/"
        },
        "id": "dv4Vi8zMRcMo",
        "outputId": "73542f9c-2816-48d2-fad3-27d478d5995b"
      },
      "execution_count": 234,
      "outputs": [
        {
          "output_type": "execute_result",
          "data": {
            "text/plain": [
              "1.0557627955041813"
            ]
          },
          "metadata": {},
          "execution_count": 234
        }
      ]
    }
  ]
}