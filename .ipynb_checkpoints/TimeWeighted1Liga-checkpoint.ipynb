{
 "cells": [
  {
   "cell_type": "code",
   "execution_count": 32,
   "metadata": {},
   "outputs": [
    {
     "data": {
      "text/html": [
       "<script>\n",
       "code_show=true; \n",
       "function code_toggle() {\n",
       " if (code_show){\n",
       " $('div.input').hide();\n",
       " } else {\n",
       " $('div.input').show();\n",
       " }\n",
       " code_show = !code_show\n",
       "} \n",
       "$( document ).ready(code_toggle);\n",
       "</script>\n",
       "<a href=\"javascript:code_toggle()\">Wyświetl kod</a>"
      ],
      "text/plain": [
       "<IPython.core.display.HTML object>"
      ]
     },
     "execution_count": 32,
     "metadata": {},
     "output_type": "execute_result"
    }
   ],
   "source": [
    "from IPython.display import HTML\n",
    "HTML('''<script>\n",
    "code_show=true; \n",
    "function code_toggle() {\n",
    " if (code_show){\n",
    " $('div.input').hide();\n",
    " } else {\n",
    " $('div.input').show();\n",
    " }\n",
    " code_show = !code_show\n",
    "} \n",
    "$( document ).ready(code_toggle);\n",
    "</script>\n",
    "<a href=\"javascript:code_toggle()\">Wyświetl kod</a>''')"
   ]
  },
  {
   "cell_type": "code",
   "execution_count": 33,
   "metadata": {},
   "outputs": [],
   "source": [
    "import ipywidgets as widgets\n",
    "from ipywidgets import Layout\n",
    "\n",
    "style = {'description_width': 'initial'}"
   ]
  },
  {
   "cell_type": "code",
   "execution_count": 34,
   "metadata": {
    "scrolled": false
   },
   "outputs": [
    {
     "data": {
      "application/vnd.jupyter.widget-view+json": {
       "model_id": "d0ee879cbc2f4eafbf191b10e145f987",
       "version_major": 2,
       "version_minor": 0
      },
      "text/plain": [
       "FloatLogSlider(value=10000.0, description='Liczba symulacji', max=10.0, min=1.0, step=1.0, style=SliderStyle(d…"
      ]
     },
     "metadata": {},
     "output_type": "display_data"
    },
    {
     "data": {
      "application/vnd.jupyter.widget-view+json": {
       "model_id": "15255908e6304de7a00896e82be5ef59",
       "version_major": 2,
       "version_minor": 0
      },
      "text/plain": [
       "BoundedIntText(value=1, description='Wybierz kolejkę:', max=34, min=1, style=DescriptionStyle(description_widt…"
      ]
     },
     "metadata": {},
     "output_type": "display_data"
    },
    {
     "data": {
      "application/vnd.jupyter.widget-view+json": {
       "model_id": "b6bb995812204f95a68d44e3e6568b91",
       "version_major": 2,
       "version_minor": 0
      },
      "text/plain": [
       "Button(description='Zatwierdź', icon='check', style=ButtonStyle(), tooltip='Confirm')"
      ]
     },
     "metadata": {},
     "output_type": "display_data"
    },
    {
     "data": {
      "application/vnd.jupyter.widget-view+json": {
       "model_id": "92a1d419ea634392a958f7b41f68eae5",
       "version_major": 2,
       "version_minor": 0
      },
      "text/plain": [
       "Output()"
      ]
     },
     "metadata": {},
     "output_type": "display_data"
    },
    {
     "name": "stdout",
     "output_type": "stream",
     "text": [
      "                        0    1\n",
      "0          Arka-Sosnowiec  1:1\n",
      "1         Widzew-Sandecja  3:0\n",
      "2  Polkowice-Podbeskidzie  1:1\n",
      "3              Odra-Miedź  1:4\n",
      "4        Katowice-Resovia  2:2\n",
      "5               Tychy-ŁKS  1:1\n",
      "6          Stomil-Chrobry  1:2\n",
      "7             Korona-Skra  2:0\n",
      "8      Jastrzębie-Puszcza  0:2\n",
      "                    0    1\n",
      "0      Korona-Puszcza  3:1\n",
      "1            ŁKS-Skra  3:2\n",
      "2       Resovia-Tychy  1:0\n",
      "3      Miedź-Katowice  1:0\n",
      "4   Podbeskidzie-Odra  0:3\n",
      "5    Sosnowiec-Widzew  1:2\n",
      "6   Jastrzębie-Stomil  1:0\n",
      "7  Polkowice-Sandecja  0:2\n",
      "8        Arka-Chrobry  0:2\n",
      "                       0    1\n",
      "0         Widzew-Chrobry  2:0\n",
      "1    Polkowice-Sosnowiec  2:4\n",
      "2          Odra-Sandecja  1:2\n",
      "3  Katowice-Podbeskidzie  2:2\n",
      "4            Tychy-Miedź  0:3\n",
      "5            Puszcza-ŁKS  0:2\n",
      "6            Stomil-Arka  0:1\n",
      "7           Resovia-Skra  0:1\n",
      "8      Korona-Jastrzębie  2:1\n",
      "                    0    1\n",
      "0       Stomil-Korona  0:1\n",
      "1      ŁKS-Jastrzębie  2:2\n",
      "2     Resovia-Puszcza  1:1\n",
      "3          Miedź-Skra  1:1\n",
      "4  Podbeskidzie-Tychy  0:0\n",
      "5         Arka-Widzew  3:1\n",
      "6   Katowice-Sandecja  0:0\n",
      "7      Odra-Sosnowiec  1:0\n",
      "8   Polkowice-Chrobry  0:0\n",
      "                    0    1\n",
      "0       Widzew-Stomil  2:0\n",
      "1      Polkowice-Arka  2:1\n",
      "2        Odra-Chrobry  1:0\n",
      "3  Katowice-Sosnowiec  3:2\n",
      "4      Tychy-Sandecja  2:1\n",
      "5       Puszcza-Miedź  0:1\n",
      "6  Jastrzębie-Resovia  1:1\n",
      "7          Korona-ŁKS  1:0\n",
      "8   Podbeskidzie-Skra  1:0\n",
      "                      0    1\n",
      "0            Stomil-ŁKS  0:3\n",
      "1        Resovia-Korona  0:1\n",
      "2      Miedź-Jastrzębie  1:1\n",
      "3  Podbeskidzie-Puszcza  4:0\n",
      "4         Sandecja-Skra  0:0\n",
      "5       Sosnowiec-Tychy  1:2\n",
      "6      Chrobry-Katowice  4:0\n",
      "7             Arka-Odra  3:0\n",
      "8      Widzew-Polkowice  4:2\n"
     ]
    },
    {
     "ename": "ZeroDivisionError",
     "evalue": "float division by zero",
     "output_type": "error",
     "traceback": [
      "\u001b[1;31m---------------------------------------------------------------------------\u001b[0m",
      "\u001b[1;31mZeroDivisionError\u001b[0m                         Traceback (most recent call last)",
      "\u001b[1;32m<ipython-input-40-e0af35a38112>\u001b[0m in \u001b[0;36mon_confirm_button_clicked\u001b[1;34m(b)\u001b[0m\n\u001b[0;32m      1\u001b[0m \u001b[1;32mdef\u001b[0m \u001b[0mon_confirm_button_clicked\u001b[0m\u001b[1;33m(\u001b[0m\u001b[0mb\u001b[0m\u001b[1;33m)\u001b[0m\u001b[1;33m:\u001b[0m\u001b[1;33m\u001b[0m\u001b[1;33m\u001b[0m\u001b[0m\n\u001b[1;32m----> 2\u001b[1;33m     \u001b[0mcalculate_weighted_stats\u001b[0m\u001b[1;33m(\u001b[0m\u001b[0mkolejka\u001b[0m\u001b[1;33m.\u001b[0m\u001b[0mvalue\u001b[0m\u001b[1;33m)\u001b[0m\u001b[1;33m\u001b[0m\u001b[1;33m\u001b[0m\u001b[0m\n\u001b[0m\u001b[0;32m      3\u001b[0m     \u001b[1;32mwith\u001b[0m \u001b[0moutput\u001b[0m\u001b[1;33m:\u001b[0m\u001b[1;33m\u001b[0m\u001b[1;33m\u001b[0m\u001b[0m\n\u001b[0;32m      4\u001b[0m         \u001b[0mdisplay_matchday\u001b[0m\u001b[1;33m(\u001b[0m\u001b[0mkolejka\u001b[0m\u001b[1;33m.\u001b[0m\u001b[0mvalue\u001b[0m\u001b[1;33m)\u001b[0m\u001b[1;33m\u001b[0m\u001b[1;33m\u001b[0m\u001b[0m\n\u001b[0;32m      5\u001b[0m \u001b[1;33m\u001b[0m\u001b[0m\n",
      "\u001b[1;32m<ipython-input-38-ab62ab16d0b0>\u001b[0m in \u001b[0;36mcalculate_weighted_stats\u001b[1;34m(w)\u001b[0m\n\u001b[0;32m     49\u001b[0m                 \u001b[0mweights_away\u001b[0m\u001b[1;33m.\u001b[0m\u001b[0mappend\u001b[0m\u001b[1;33m(\u001b[0m\u001b[0mweight\u001b[0m\u001b[1;33m)\u001b[0m\u001b[1;33m\u001b[0m\u001b[1;33m\u001b[0m\u001b[0m\n\u001b[0;32m     50\u001b[0m                 \u001b[0mweight\u001b[0m \u001b[1;33m=\u001b[0m \u001b[0mweight\u001b[0m\u001b[1;33m+\u001b[0m\u001b[1;36m1\u001b[0m\u001b[1;33m\u001b[0m\u001b[1;33m\u001b[0m\u001b[0m\n\u001b[1;32m---> 51\u001b[1;33m         \u001b[0mhome_attack_strength\u001b[0m\u001b[1;33m[\u001b[0m\u001b[0mc\u001b[0m\u001b[1;33m]\u001b[0m \u001b[1;33m=\u001b[0m \u001b[0mhas\u001b[0m \u001b[1;33m/\u001b[0m \u001b[1;33m(\u001b[0m\u001b[0msum\u001b[0m\u001b[1;33m(\u001b[0m\u001b[0mweights_home\u001b[0m\u001b[1;33m)\u001b[0m\u001b[1;33m*\u001b[0m\u001b[0mavg_strzelone_dom_liga\u001b[0m\u001b[1;33m)\u001b[0m\u001b[1;33m\u001b[0m\u001b[1;33m\u001b[0m\u001b[0m\n\u001b[0m\u001b[0;32m     52\u001b[0m         \u001b[0mhome_defence_strength\u001b[0m\u001b[1;33m[\u001b[0m\u001b[0mc\u001b[0m\u001b[1;33m]\u001b[0m \u001b[1;33m=\u001b[0m \u001b[0mhds\u001b[0m \u001b[1;33m/\u001b[0m \u001b[1;33m(\u001b[0m\u001b[0msum\u001b[0m\u001b[1;33m(\u001b[0m\u001b[0mweights_home\u001b[0m\u001b[1;33m)\u001b[0m\u001b[1;33m*\u001b[0m\u001b[0mavg_strzelone_wyjazd_liga\u001b[0m\u001b[1;33m)\u001b[0m\u001b[1;33m\u001b[0m\u001b[1;33m\u001b[0m\u001b[0m\n\u001b[0;32m     53\u001b[0m         \u001b[0maway_attack_strength\u001b[0m\u001b[1;33m[\u001b[0m\u001b[0mc\u001b[0m\u001b[1;33m]\u001b[0m \u001b[1;33m=\u001b[0m \u001b[0maas\u001b[0m \u001b[1;33m/\u001b[0m \u001b[1;33m(\u001b[0m\u001b[0msum\u001b[0m\u001b[1;33m(\u001b[0m\u001b[0mweights_away\u001b[0m\u001b[1;33m)\u001b[0m\u001b[1;33m*\u001b[0m\u001b[0mavg_strzelone_wyjazd_liga\u001b[0m\u001b[1;33m)\u001b[0m\u001b[1;33m\u001b[0m\u001b[1;33m\u001b[0m\u001b[0m\n",
      "\u001b[1;31mZeroDivisionError\u001b[0m: float division by zero"
     ]
    }
   ],
   "source": [
    "n = widgets.FloatLogSlider(value=10000, base=10, min=1, max=10, step=1, description='Liczba symulacji', style=style)\n",
    "kolejka = widgets.BoundedIntText(value=1, min=1, max=34, step=1, description='Wybierz kolejkę:', disabled=False, style=style)\n",
    "\n",
    "display(n)\n",
    "display(kolejka)\n",
    "\n",
    "button = widgets.Button(description='Zatwierdź',disabled=False,tooltip='Confirm',icon='check') \n",
    "output = widgets.Output()\n",
    "display(button,output)"
   ]
  },
  {
   "cell_type": "code",
   "execution_count": 35,
   "metadata": {},
   "outputs": [],
   "source": [
    "strzelone_dom = {\n",
    "    1: 12,    2: 10,    3: 9,    4: 0,    5: 13,    6: 17,    7: 0,    8: 11,    9: 0,    10: 0,\n",
    "    11: 0,    12: 0,    13: 0,    14: 0,    15: 0,    16: 0,    17: 0,    18: 0,    19: 0,    20: 0,\n",
    "    21: 0,    22: 0,    23: 0,    24: 0,    25: 0,    26: 0,    27: 0,    28: 0,    29: 0,    30: 0,    \n",
    "    31: 0,     32: 0,    33: 0,     34 : 0\n",
    "}"
   ]
  },
  {
   "cell_type": "code",
   "execution_count": 36,
   "metadata": {},
   "outputs": [],
   "source": [
    "strzelone_wyjazd = {\n",
    "    1: 13,    2: 12,    3: 16,    4: 0,    5: 6,    6: 9,    7: 4,    8: 16,    9: 0,    10: 0,\n",
    "    11: 0,    12: 0,    13: 0,    14: 0,    15: 0,    16: 0,    17: 0,    18: 0,    19: 0,    20: 0,\n",
    "    21: 0,    22: 0,    23: 0,    24: 0,    25: 0,    26: 0,    27: 0,    28: 0,    29: 0,    30: 0,    \n",
    "    31: 0,     32: 0,    33: 0,     34 : 0\n",
    "}"
   ]
  },
  {
   "cell_type": "code",
   "execution_count": 37,
   "metadata": {},
   "outputs": [],
   "source": [
    "mecze_liga = 6*9 + 8 + 5"
   ]
  },
  {
   "cell_type": "code",
   "execution_count": 38,
   "metadata": {},
   "outputs": [],
   "source": [
    "import pandas as pd\n",
    "import os\n",
    "\n",
    "def calculate_weighted_stats(w):\n",
    "    base = r'Kolejki1Liga'\n",
    "    matchdays = []\n",
    "    for filename in os.listdir(base):\n",
    "        if int(filename)<w:\n",
    "            matchday = pd.read_csv(f\"{base}/{filename}\", header=None)\n",
    "            matchdays.append(matchday)\n",
    "    league = pd.concat(matchdays, ignore_index=True)\n",
    "    g = open(\"Statystyki/poissonstats-1liga\", \"r\", encoding='utf-8')\n",
    "    clubs = [x.strip().split(\",\")[0] for x in g]\n",
    "    \n",
    "    global home_attack_strength\n",
    "    global home_defence_strength\n",
    "    global away_attack_strength\n",
    "    global away_defence_strength\n",
    "    home_attack_strength = {}\n",
    "    home_defence_strength = {}\n",
    "    away_attack_strength = {}\n",
    "    away_defence_strength = {}\n",
    "    \n",
    "    global avg_strzelone_dom_liga\n",
    "    global avg_strzelone_wyjazd_liga\n",
    "    avg_strzelone_dom_liga = sum([k*v/(8*sum(range(1,w))) for k,v in strzelone_dom.items() if k<w])\n",
    "    avg_strzelone_wyjazd_liga = sum([k*v/(8*sum(range(1,w))) for k,v in strzelone_wyjazd.items() if k<w])\n",
    "    \n",
    "    for c in clubs:\n",
    "        weight = 1\n",
    "        weights_away = []\n",
    "        weights_home = []\n",
    "        has = 0\n",
    "        hds = 0\n",
    "        aas = 0\n",
    "        ads = 0\n",
    "        for index, row in league.iterrows():\n",
    "            home = row[0].split('-')[0]\n",
    "            away = row[0].split('-')[1]\n",
    "            if c==home:\n",
    "                has += int(row[1].split(':')[0])*weight\n",
    "                hds += int(row[1].split(':')[1])*weight\n",
    "                weights_home.append(weight)\n",
    "                weight = weight+1\n",
    "            if c==away:\n",
    "                aas += int(row[1].split(':')[1])*weight\n",
    "                ads += int(row[1].split(':')[0])*weight\n",
    "                weights_away.append(weight)\n",
    "                weight = weight+1\n",
    "        home_attack_strength[c] = has / (sum(weights_home)*avg_strzelone_dom_liga)\n",
    "        home_defence_strength[c] = hds / (sum(weights_home)*avg_strzelone_wyjazd_liga)\n",
    "        away_attack_strength[c] = aas / (sum(weights_away)*avg_strzelone_wyjazd_liga)\n",
    "        away_defence_strength[c] = ads / (sum(weights_away)*avg_strzelone_dom_liga)"
   ]
  },
  {
   "cell_type": "code",
   "execution_count": 39,
   "metadata": {},
   "outputs": [],
   "source": [
    "import numpy as np\n",
    "from collections import Counter\n",
    "from IPython.display import clear_output\n",
    "\n",
    "def display_matchday(a):\n",
    "    clear_output()\n",
    "    h = open(f\"Kolejki1Liga/{str(a)}\", \"r\", encoding='utf-8')\n",
    "    \n",
    "    for x in h:\n",
    "        home_team = x.strip().split(\",\")[0].split(\"-\")[0]\n",
    "        away_team = x.strip().split(\",\")[0].split(\"-\")[1]\n",
    "        rng = np.random.default_rng()\n",
    "        results = []\n",
    "        home = home_attack_strength[home_team]*away_defence_strength[away_team]*avg_strzelone_dom_liga\n",
    "        away = home_defence_strength[home_team]*away_attack_strength[away_team]*avg_strzelone_wyjazd_liga\n",
    "        print(home_team, \"vs\", away_team)\n",
    "        print(\"Siła:\", home, away)\n",
    "        for i in range(0,int(n.value)):\n",
    "            results.append((rng.poisson(home, 1)[0],rng.poisson(away, 1)[0]))\n",
    "        print(\"Prawdopodobieństwo czystego konta gospodarza:\", sum(x[1]==0 for x in results)/n.value)\n",
    "        print(\"Prawdopodobieństwo czystego konta gościa:\", sum(x[0]==0 for x in results)/n.value)\n",
    "        \n",
    "        print(\"Najbardziej prawdopodobne wyniki:\\n\",Counter(results).most_common(7),\"\\n\\n\\n\")\n",
    "    h.close()"
   ]
  },
  {
   "cell_type": "code",
   "execution_count": 40,
   "metadata": {},
   "outputs": [],
   "source": [
    "def on_confirm_button_clicked(b):\n",
    "    calculate_weighted_stats(kolejka.value)\n",
    "    with output:\n",
    "        display_matchday(kolejka.value)\n",
    "    \n",
    "button.on_click(on_confirm_button_clicked)"
   ]
  },
  {
   "cell_type": "code",
   "execution_count": 41,
   "metadata": {},
   "outputs": [],
   "source": [
    "#home = home_attack_strength[\"Płock\"]*away_defence_strength[\"Wisła\"]*avg_strzelone_dom_liga\n",
    "#away = home_defence_strength[\"Płock\"]*away_attack_strength[\"Wisła\"]*avg_strzelone_wyjazd_liga\n",
    "#results = []\n",
    "#rng = np.random.default_rng()\n",
    "#for i in range(0,int(n.value)):\n",
    "#    results.append((rng.poisson(home, 1)[0],rng.poisson(away, 1)[0]))\n",
    "#Counter(results).most_common(35)"
   ]
  }
 ],
 "metadata": {
  "kernelspec": {
   "display_name": "Python 3",
   "language": "python",
   "name": "python3"
  },
  "language_info": {
   "codemirror_mode": {
    "name": "ipython",
    "version": 3
   },
   "file_extension": ".py",
   "mimetype": "text/x-python",
   "name": "python",
   "nbconvert_exporter": "python",
   "pygments_lexer": "ipython3",
   "version": "3.7.5"
  }
 },
 "nbformat": 4,
 "nbformat_minor": 4
}
